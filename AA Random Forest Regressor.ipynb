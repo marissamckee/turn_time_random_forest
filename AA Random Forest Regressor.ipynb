{
 "cells": [
  {
   "cell_type": "markdown",
   "metadata": {},
   "source": [
    "# American Airlines Random Forest Regression Model"
   ]
  },
  {
   "cell_type": "markdown",
   "metadata": {},
   "source": [
    "## Import Data"
   ]
  },
  {
   "cell_type": "code",
   "execution_count": 3,
   "metadata": {},
   "outputs": [],
   "source": [
    "import pandas as pd\n",
    "import numpy as np\n",
    "from matplotlib import pyplot as plt"
   ]
  },
  {
   "cell_type": "code",
   "execution_count": 4,
   "metadata": {},
   "outputs": [],
   "source": [
    "features = pd.read_csv('all_tight_turns_seconds.csv')"
   ]
  },
  {
   "cell_type": "markdown",
   "metadata": {},
   "source": [
    "## Establish a Baseline"
   ]
  },
  {
   "cell_type": "markdown",
   "metadata": {},
   "source": [
    "If one expects that a plane in a tight turn situation will be turned over in a time less than or equal to MOGT, they will be correct 48.1% of the time.  Our accuracy rate needs to be significantly better than this in order to provide utility to the customer."
   ]
  },
  {
   "cell_type": "code",
   "execution_count": null,
   "metadata": {},
   "outputs": [],
   "source": [
    "print('Baseline: {:.2%}'.format(features.Under_MOGT.sum() / len(features.Under_MOGT)))"
   ]
  },
  {
   "cell_type": "markdown",
   "metadata": {},
   "source": [
    "## Outlier Detection"
   ]
  },
  {
   "cell_type": "code",
   "execution_count": null,
   "metadata": {},
   "outputs": [],
   "source": [
    "# Histogram\n",
    "hist = features['TURN_TIME'].hist()"
   ]
  },
  {
   "cell_type": "code",
   "execution_count": null,
   "metadata": {},
   "outputs": [],
   "source": [
    "# Scatter plot of available ground time vs turn time\n",
    "plt.figure(figsize=(15,7))\n",
    "plt.scatter(features['AVL_GRND_TM'],features['TURN_TIME'],s=100,marker='o',color='#b3b3ff')\n",
    "plt.title('AVL_GRND_TM vs TURN_TIME',fontsize=20)  \n",
    "plt.xlabel('AVL_GRND_TM',fontsize=15)  \n",
    "plt.ylabel('TURN_TIME',fontsize=15)  \n",
    "plt.show()"
   ]
  },
  {
   "cell_type": "markdown",
   "metadata": {},
   "source": [
    "## Remove Outliers \n",
    "Outliers with a turn time greater than 8 hours will be analyzed separately. "
   ]
  },
  {
   "cell_type": "code",
   "execution_count": null,
   "metadata": {},
   "outputs": [],
   "source": [
    "features.shape"
   ]
  },
  {
   "cell_type": "code",
   "execution_count": 5,
   "metadata": {},
   "outputs": [],
   "source": [
    "features.drop(features[features.TURN_TIME > 28800].index, inplace=True)\n",
    "features.drop(features[features.AVL_GRND_TM < -200].index, inplace=True)"
   ]
  },
  {
   "cell_type": "code",
   "execution_count": null,
   "metadata": {},
   "outputs": [],
   "source": [
    "features.shape"
   ]
  },
  {
   "cell_type": "code",
   "execution_count": null,
   "metadata": {},
   "outputs": [],
   "source": [
    "# Scatter plot of available ground time vs turn time\n",
    "plt.figure(figsize=(15,7))\n",
    "plt.scatter(features['AVL_GRND_TM'],features['TURN_TIME'],s=100,marker='o',color='#b3b3ff')\n",
    "plt.title('AVL_GRND_TM vs TURN_TIME',fontsize=20)  \n",
    "plt.xlabel('AVL_GRND_TM',fontsize=15)  \n",
    "plt.ylabel('TURN_TIME',fontsize=15)  \n",
    "plt.show()"
   ]
  },
  {
   "cell_type": "markdown",
   "metadata": {},
   "source": [
    "## Pre-process the Data"
   ]
  },
  {
   "cell_type": "markdown",
   "metadata": {},
   "source": [
    "#### Dummy variables\n",
    "\n",
    "Here we convert categorical columns into one-hot encoded features"
   ]
  },
  {
   "cell_type": "code",
   "execution_count": 6,
   "metadata": {},
   "outputs": [
    {
     "data": {
      "text/plain": [
       "Index(['INB_FLIGHT', 'INB_ACT_DTTM', 'SEATS', 'INB_PAX', 'OUTB_PAX', 'MOGT',\n",
       "       'AVL_GRND_TM', 'OPERAT_FLIGHT_NBR', 'RQRD_BOARD_MIN', 'SKD_DTTM',\n",
       "       ...\n",
       "       'PRIMARY_DELAY_REASON_MAINTENANCE',\n",
       "       'PRIMARY_DELAY_REASON_MISCELLANEOUS', 'PRIMARY_DELAY_REASON_NO DELAY',\n",
       "       'PRIMARY_DELAY_REASON_OPERATIONAL CODES',\n",
       "       'PRIMARY_DELAY_REASON_PASSENGER SERVICE', 'PRIMARY_DELAY_REASON_PILOT',\n",
       "       'PRIMARY_DELAY_REASON_SECURITY', 'PRIMARY_DELAY_REASON_SERVICING',\n",
       "       'PRIMARY_DELAY_REASON_UNKNOWN', 'PRIMARY_DELAY_REASON_WEATHER'],\n",
       "      dtype='object', length=2248)"
      ]
     },
     "execution_count": 6,
     "metadata": {},
     "output_type": "execute_result"
    }
   ],
   "source": [
    "features = pd.get_dummies(features)\n",
    "features.columns"
   ]
  },
  {
   "cell_type": "code",
   "execution_count": null,
   "metadata": {
    "scrolled": true
   },
   "outputs": [],
   "source": [
    "features.head()"
   ]
  },
  {
   "cell_type": "markdown",
   "metadata": {},
   "source": [
    "#### Creating new columns\n",
    "\n",
    "The following new columns are created below:\n",
    "* inb_pct_full - the percentage of seats occupied on the inbound flight\n",
    "* outb_pct_full - the percentage of seats occupied on the outbound flight\n",
    "* sched_month - the month the flight was scheduled to leave\n",
    "* sched_hour - the hour the flight was scheduled to leave\n",
    "* arrival_hour - the hour the inbound flight arrived"
   ]
  },
  {
   "cell_type": "code",
   "execution_count": 7,
   "metadata": {},
   "outputs": [],
   "source": [
    "features['inb_pct_full'] = features['INB_PAX'] / features['SEATS']\n",
    "features['outb_pct_full'] = features['OUTB_PAX'] / features['SEATS']\n",
    "features['sched_month'] = pd.to_datetime(features['SKD_DTTM']).dt.month\n",
    "features['sched_day_of_week'] = pd.to_datetime(features['SKD_DTTM']).dt.dayofweek\n",
    "features['sched_hour'] = pd.to_datetime(features['SKD_DTTM']).dt.hour\n",
    "features['arrival_hour'] = pd.to_datetime(features['INB_ACT_DTTM']).dt.hour"
   ]
  },
  {
   "cell_type": "markdown",
   "metadata": {},
   "source": [
    "#### Selecting features\n",
    "\n",
    "Here we select the features that we will use as inputs to our model."
   ]
  },
  {
   "cell_type": "code",
   "execution_count": null,
   "metadata": {},
   "outputs": [],
   "source": [
    "# Print the features columns for easy review\n",
    "features.columns"
   ]
  },
  {
   "cell_type": "code",
   "execution_count": 8,
   "metadata": {},
   "outputs": [
    {
     "data": {
      "text/html": [
       "<div>\n",
       "<style scoped>\n",
       "    .dataframe tbody tr th:only-of-type {\n",
       "        vertical-align: middle;\n",
       "    }\n",
       "\n",
       "    .dataframe tbody tr th {\n",
       "        vertical-align: top;\n",
       "    }\n",
       "\n",
       "    .dataframe thead th {\n",
       "        text-align: right;\n",
       "    }\n",
       "</style>\n",
       "<table border=\"1\" class=\"dataframe\">\n",
       "  <thead>\n",
       "    <tr style=\"text-align: right;\">\n",
       "      <th></th>\n",
       "      <th>INB_FLIGHT</th>\n",
       "      <th>INB_ACT_DTTM</th>\n",
       "      <th>SEATS</th>\n",
       "      <th>INB_PAX</th>\n",
       "      <th>OUTB_PAX</th>\n",
       "      <th>MOGT</th>\n",
       "      <th>AVL_GRND_TM</th>\n",
       "      <th>OPERAT_FLIGHT_NBR</th>\n",
       "      <th>RQRD_BOARD_MIN</th>\n",
       "      <th>SKD_DTTM</th>\n",
       "      <th>...</th>\n",
       "      <th>PRIMARY_DELAY_REASON_SECURITY</th>\n",
       "      <th>PRIMARY_DELAY_REASON_SERVICING</th>\n",
       "      <th>PRIMARY_DELAY_REASON_UNKNOWN</th>\n",
       "      <th>PRIMARY_DELAY_REASON_WEATHER</th>\n",
       "      <th>inb_pct_full</th>\n",
       "      <th>outb_pct_full</th>\n",
       "      <th>sched_month</th>\n",
       "      <th>sched_day_of_week</th>\n",
       "      <th>sched_hour</th>\n",
       "      <th>arrival_hour</th>\n",
       "    </tr>\n",
       "  </thead>\n",
       "  <tbody>\n",
       "    <tr>\n",
       "      <th>0</th>\n",
       "      <td>62</td>\n",
       "      <td>1503587040</td>\n",
       "      <td>128</td>\n",
       "      <td>125</td>\n",
       "      <td>57</td>\n",
       "      <td>45</td>\n",
       "      <td>25</td>\n",
       "      <td>2700</td>\n",
       "      <td>30</td>\n",
       "      <td>1503588540</td>\n",
       "      <td>...</td>\n",
       "      <td>0</td>\n",
       "      <td>0</td>\n",
       "      <td>0</td>\n",
       "      <td>0</td>\n",
       "      <td>0.976562</td>\n",
       "      <td>0.445312</td>\n",
       "      <td>1</td>\n",
       "      <td>3</td>\n",
       "      <td>0</td>\n",
       "      <td>0</td>\n",
       "    </tr>\n",
       "    <tr>\n",
       "      <th>1</th>\n",
       "      <td>120</td>\n",
       "      <td>1524318120</td>\n",
       "      <td>128</td>\n",
       "      <td>93</td>\n",
       "      <td>110</td>\n",
       "      <td>50</td>\n",
       "      <td>48</td>\n",
       "      <td>121</td>\n",
       "      <td>45</td>\n",
       "      <td>1524321000</td>\n",
       "      <td>...</td>\n",
       "      <td>0</td>\n",
       "      <td>0</td>\n",
       "      <td>0</td>\n",
       "      <td>0</td>\n",
       "      <td>0.726562</td>\n",
       "      <td>0.859375</td>\n",
       "      <td>1</td>\n",
       "      <td>3</td>\n",
       "      <td>0</td>\n",
       "      <td>0</td>\n",
       "    </tr>\n",
       "    <tr>\n",
       "      <th>2</th>\n",
       "      <td>149</td>\n",
       "      <td>1545669180</td>\n",
       "      <td>128</td>\n",
       "      <td>113</td>\n",
       "      <td>97</td>\n",
       "      <td>45</td>\n",
       "      <td>27</td>\n",
       "      <td>1454</td>\n",
       "      <td>30</td>\n",
       "      <td>1545670800</td>\n",
       "      <td>...</td>\n",
       "      <td>0</td>\n",
       "      <td>0</td>\n",
       "      <td>0</td>\n",
       "      <td>0</td>\n",
       "      <td>0.882812</td>\n",
       "      <td>0.757812</td>\n",
       "      <td>1</td>\n",
       "      <td>3</td>\n",
       "      <td>0</td>\n",
       "      <td>0</td>\n",
       "    </tr>\n",
       "    <tr>\n",
       "      <th>3</th>\n",
       "      <td>165</td>\n",
       "      <td>1528729140</td>\n",
       "      <td>128</td>\n",
       "      <td>89</td>\n",
       "      <td>85</td>\n",
       "      <td>40</td>\n",
       "      <td>-38</td>\n",
       "      <td>189</td>\n",
       "      <td>30</td>\n",
       "      <td>1528726860</td>\n",
       "      <td>...</td>\n",
       "      <td>0</td>\n",
       "      <td>0</td>\n",
       "      <td>0</td>\n",
       "      <td>0</td>\n",
       "      <td>0.695312</td>\n",
       "      <td>0.664062</td>\n",
       "      <td>1</td>\n",
       "      <td>3</td>\n",
       "      <td>0</td>\n",
       "      <td>0</td>\n",
       "    </tr>\n",
       "    <tr>\n",
       "      <th>4</th>\n",
       "      <td>189</td>\n",
       "      <td>1504093140</td>\n",
       "      <td>128</td>\n",
       "      <td>76</td>\n",
       "      <td>88</td>\n",
       "      <td>45</td>\n",
       "      <td>41</td>\n",
       "      <td>1534</td>\n",
       "      <td>30</td>\n",
       "      <td>1504095600</td>\n",
       "      <td>...</td>\n",
       "      <td>0</td>\n",
       "      <td>0</td>\n",
       "      <td>0</td>\n",
       "      <td>0</td>\n",
       "      <td>0.593750</td>\n",
       "      <td>0.687500</td>\n",
       "      <td>1</td>\n",
       "      <td>3</td>\n",
       "      <td>0</td>\n",
       "      <td>0</td>\n",
       "    </tr>\n",
       "  </tbody>\n",
       "</table>\n",
       "<p>5 rows × 670 columns</p>\n",
       "</div>"
      ],
      "text/plain": [
       "   INB_FLIGHT  INB_ACT_DTTM  SEATS  INB_PAX  OUTB_PAX  MOGT  AVL_GRND_TM  \\\n",
       "0          62    1503587040    128      125        57    45           25   \n",
       "1         120    1524318120    128       93       110    50           48   \n",
       "2         149    1545669180    128      113        97    45           27   \n",
       "3         165    1528729140    128       89        85    40          -38   \n",
       "4         189    1504093140    128       76        88    45           41   \n",
       "\n",
       "   OPERAT_FLIGHT_NBR  RQRD_BOARD_MIN    SKD_DTTM  ...  \\\n",
       "0               2700              30  1503588540  ...   \n",
       "1                121              45  1524321000  ...   \n",
       "2               1454              30  1545670800  ...   \n",
       "3                189              30  1528726860  ...   \n",
       "4               1534              30  1504095600  ...   \n",
       "\n",
       "   PRIMARY_DELAY_REASON_SECURITY  PRIMARY_DELAY_REASON_SERVICING  \\\n",
       "0                              0                               0   \n",
       "1                              0                               0   \n",
       "2                              0                               0   \n",
       "3                              0                               0   \n",
       "4                              0                               0   \n",
       "\n",
       "   PRIMARY_DELAY_REASON_UNKNOWN  PRIMARY_DELAY_REASON_WEATHER  inb_pct_full  \\\n",
       "0                             0                             0      0.976562   \n",
       "1                             0                             0      0.726562   \n",
       "2                             0                             0      0.882812   \n",
       "3                             0                             0      0.695312   \n",
       "4                             0                             0      0.593750   \n",
       "\n",
       "   outb_pct_full  sched_month  sched_day_of_week  sched_hour  arrival_hour  \n",
       "0       0.445312            1                  3           0             0  \n",
       "1       0.859375            1                  3           0             0  \n",
       "2       0.757812            1                  3           0             0  \n",
       "3       0.664062            1                  3           0             0  \n",
       "4       0.687500            1                  3           0             0  \n",
       "\n",
       "[5 rows x 670 columns]"
      ]
     },
     "execution_count": 8,
     "metadata": {},
     "output_type": "execute_result"
    }
   ],
   "source": [
    "# Narrow the features list to the relevant features\n",
    "features = features[['INB_FLIGHT', 'INB_ACT_DTTM', 'SEATS', 'INB_PAX', 'OUTB_PAX', 'MOGT',\n",
    "       'AVL_GRND_TM', 'OPERAT_FLIGHT_NBR', 'RQRD_BOARD_MIN', 'SKD_DTTM',\n",
    "       'ACT_DTTM', 'FIRST_BAG_OFF', 'FIRST_QRTL_BAG_OFF',\n",
    "       'MEDIAN_BAG_OFF', 'THIRD_QRTL_BAG_OFF', 'LAST_BAG_OFF', 'FIRST_BAG_ON',\n",
    "       'FIRST_QRTL_BAG_ON', 'MEDIAN_BAG_ON','THIRD_QRTL_BAG_ON', 'LAST_BAG_ON', 'FA_MIN_CREW',\n",
    "       'FIRST_PAX_ON', 'FIRST_QRTL_PAX_ON', 'MEDIAN_PAX_ON',\n",
    "       'THIRD_QRTL_PAX_ON', 'LAST_PAX_ON', 'TURN_TIME', \n",
    "        'AIRLINE_AA', 'FLEET_CD_319',\n",
    "       'FLEET_CD_320', 'FLEET_CD_321', 'FLEET_CD_737', 'FLEET_CD_737',\n",
    "       'FLEET_CD_757', 'FLEET_CD_E90', 'FLEET_CD_M80', 'SUB_FLEET_A319',\n",
    "       'SUB_FLEET_A320', 'SUB_FLEET_A321', 'SUB_FLEET_A321-Transcon',\n",
    "       'SUB_FLEET_B737-800', 'SUB_FLEET_B737-800 MAX', 'SUB_FLEET_B757-200',\n",
    "       'SUB_FLEET_E190', 'SUB_FLEET_MD-80', 'SUB_FLEET_MD-83','INB_ACT_ORIG_ABI', 'INB_ACT_ORIG_ABQ', 'INB_ACT_ORIG_ACY',\n",
    "       'INB_ACT_ORIG_AFW', 'INB_ACT_ORIG_ALB', 'INB_ACT_ORIG_AMA',\n",
    "       'INB_ACT_ORIG_AMS', 'INB_ACT_ORIG_ANC', 'INB_ACT_ORIG_ANU',\n",
    "       'INB_ACT_ORIG_ATL', 'INB_ACT_ORIG_AUA', 'INB_ACT_ORIG_AUS',\n",
    "       'INB_ACT_ORIG_BAQ', 'INB_ACT_ORIG_BDA', 'INB_ACT_ORIG_BDL',\n",
    "       'INB_ACT_ORIG_BGI', 'INB_ACT_ORIG_BGR', 'INB_ACT_ORIG_BHM',\n",
    "       'INB_ACT_ORIG_BJX', 'INB_ACT_ORIG_BNA', 'INB_ACT_ORIG_BOG',\n",
    "       'INB_ACT_ORIG_BOI', 'INB_ACT_ORIG_BON', 'INB_ACT_ORIG_BOS',\n",
    "       'INB_ACT_ORIG_BSB', 'INB_ACT_ORIG_BTR', 'INB_ACT_ORIG_BTV',\n",
    "       'INB_ACT_ORIG_BUF', 'INB_ACT_ORIG_BWI', 'INB_ACT_ORIG_BZE',\n",
    "       'INB_ACT_ORIG_BZN', 'INB_ACT_ORIG_CAE', 'INB_ACT_ORIG_CAP',\n",
    "       'INB_ACT_ORIG_CCS', 'INB_ACT_ORIG_CDG', 'INB_ACT_ORIG_CFG',\n",
    "       'INB_ACT_ORIG_CHS', 'INB_ACT_ORIG_CLE', 'INB_ACT_ORIG_CLO',\n",
    "       'INB_ACT_ORIG_CLT', 'INB_ACT_ORIG_CMH', 'INB_ACT_ORIG_CMW',\n",
    "       'INB_ACT_ORIG_COS', 'INB_ACT_ORIG_CRP', 'INB_ACT_ORIG_CTG',\n",
    "       'INB_ACT_ORIG_CUN', 'INB_ACT_ORIG_CUR', 'INB_ACT_ORIG_CVG',\n",
    "       'INB_ACT_ORIG_CZM', 'INB_ACT_ORIG_DAY', 'INB_ACT_ORIG_DCA',\n",
    "       'INB_ACT_ORIG_DEN', 'INB_ACT_ORIG_DFW', 'INB_ACT_ORIG_DSM',\n",
    "       'INB_ACT_ORIG_DTW', 'INB_ACT_ORIG_DUB', 'INB_ACT_ORIG_EDI',\n",
    "       'INB_ACT_ORIG_EGE', 'INB_ACT_ORIG_ELP', 'INB_ACT_ORIG_EUG',\n",
    "       'INB_ACT_ORIG_EWR', 'INB_ACT_ORIG_FAT', 'INB_ACT_ORIG_FDF',\n",
    "       'INB_ACT_ORIG_FLL', 'INB_ACT_ORIG_FOE', 'INB_ACT_ORIG_FSD',\n",
    "       'INB_ACT_ORIG_GCM', 'INB_ACT_ORIG_GDL', 'INB_ACT_ORIG_GEG',\n",
    "       'INB_ACT_ORIG_GGG', 'INB_ACT_ORIG_GJT', 'INB_ACT_ORIG_GLA',\n",
    "       'INB_ACT_ORIG_GND', 'INB_ACT_ORIG_GRK', 'INB_ACT_ORIG_GRR',\n",
    "       'INB_ACT_ORIG_GSO', 'INB_ACT_ORIG_GSP', 'INB_ACT_ORIG_GUA',\n",
    "       'INB_ACT_ORIG_GUC', 'INB_ACT_ORIG_GYE', 'INB_ACT_ORIG_HAV',\n",
    "       'INB_ACT_ORIG_HDN', 'INB_ACT_ORIG_HNL', 'INB_ACT_ORIG_HOG',\n",
    "       'INB_ACT_ORIG_HOU', 'INB_ACT_ORIG_IAD', 'INB_ACT_ORIG_IAH',\n",
    "       'INB_ACT_ORIG_ICT', 'INB_ACT_ORIG_ILM', 'INB_ACT_ORIG_IND',\n",
    "       'INB_ACT_ORIG_JAC', 'INB_ACT_ORIG_JAX', 'INB_ACT_ORIG_JFK',\n",
    "       'INB_ACT_ORIG_KEF', 'INB_ACT_ORIG_KIN', 'INB_ACT_ORIG_KOA',\n",
    "       'INB_ACT_ORIG_LAS', 'INB_ACT_ORIG_LAX','INB_ACT_ORIG_LBB', \n",
    "        'INB_ACT_ORIG_LGA', 'INB_ACT_ORIG_LIH',\n",
    "       'INB_ACT_ORIG_LIM', 'INB_ACT_ORIG_LIR', 'INB_ACT_ORIG_LIS',\n",
    "       'INB_ACT_ORIG_LIT', 'INB_ACT_ORIG_MAD', 'INB_ACT_ORIG_MAN',\n",
    "       'INB_ACT_ORIG_MAO', 'INB_ACT_ORIG_MAR', 'INB_ACT_ORIG_MBJ',\n",
    "       'INB_ACT_ORIG_MCI', 'INB_ACT_ORIG_MCO', 'INB_ACT_ORIG_MDE',\n",
    "       'INB_ACT_ORIG_MDT', 'INB_ACT_ORIG_MEM', 'INB_ACT_ORIG_MEX',\n",
    "       'INB_ACT_ORIG_MFE', 'INB_ACT_ORIG_MGA', 'INB_ACT_ORIG_MHT',\n",
    "       'INB_ACT_ORIG_MIA', 'INB_ACT_ORIG_MKE', 'INB_ACT_ORIG_MLB',\n",
    "       'INB_ACT_ORIG_MLI', 'INB_ACT_ORIG_MSN', 'INB_ACT_ORIG_MSP',\n",
    "       'INB_ACT_ORIG_MSY', 'INB_ACT_ORIG_MTJ', 'INB_ACT_ORIG_MYR',\n",
    "       'INB_ACT_ORIG_MZT', 'INB_ACT_ORIG_NAS', 'INB_ACT_ORIG_OAK',\n",
    "       'INB_ACT_ORIG_OGG', 'INB_ACT_ORIG_OKC', 'INB_ACT_ORIG_OMA',\n",
    "       'INB_ACT_ORIG_ONT', 'INB_ACT_ORIG_ORD', 'INB_ACT_ORIG_ORF',\n",
    "       'INB_ACT_ORIG_PAE', 'INB_ACT_ORIG_PAP', 'INB_ACT_ORIG_PBI',\n",
    "       'INB_ACT_ORIG_PDX', 'INB_ACT_ORIG_PEI', 'INB_ACT_ORIG_PHL',\n",
    "       'INB_ACT_ORIG_PHX', 'INB_ACT_ORIG_PIT', 'INB_ACT_ORIG_PLS',\n",
    "       'INB_ACT_ORIG_PNS', 'INB_ACT_ORIG_POP', 'INB_ACT_ORIG_POS',\n",
    "       'INB_ACT_ORIG_PSP', 'INB_ACT_ORIG_PTP', 'INB_ACT_ORIG_PTY',\n",
    "       'INB_ACT_ORIG_PUB', 'INB_ACT_ORIG_PUJ', 'INB_ACT_ORIG_PVD',\n",
    "       'INB_ACT_ORIG_PVR', 'INB_ACT_ORIG_PWM', 'INB_ACT_ORIG_RDU',\n",
    "       'INB_ACT_ORIG_RFD', 'INB_ACT_ORIG_RIC', 'INB_ACT_ORIG_RNO',\n",
    "       'INB_ACT_ORIG_ROC', 'INB_ACT_ORIG_ROW', 'INB_ACT_ORIG_RST',\n",
    "       'INB_ACT_ORIG_RSW', 'INB_ACT_ORIG_RTB', 'INB_ACT_ORIG_SAL',\n",
    "       'INB_ACT_ORIG_SAN', 'INB_ACT_ORIG_SAP', 'INB_ACT_ORIG_SAT',\n",
    "       'INB_ACT_ORIG_SAV', 'INB_ACT_ORIG_SBA', 'INB_ACT_ORIG_SDF',\n",
    "       'INB_ACT_ORIG_SDQ', 'INB_ACT_ORIG_SEA', 'INB_ACT_ORIG_SFO',\n",
    "       'INB_ACT_ORIG_SHV', 'INB_ACT_ORIG_SJC', 'INB_ACT_ORIG_SJD',\n",
    "       'INB_ACT_ORIG_SJO', 'INB_ACT_ORIG_SJU', 'INB_ACT_ORIG_SKB',\n",
    "       'INB_ACT_ORIG_SLC', 'INB_ACT_ORIG_SMF', 'INB_ACT_ORIG_SNA',\n",
    "       'INB_ACT_ORIG_SNN', 'INB_ACT_ORIG_SNU', 'INB_ACT_ORIG_SPS',\n",
    "       'INB_ACT_ORIG_SRQ', 'INB_ACT_ORIG_STI', 'INB_ACT_ORIG_STL',\n",
    "       'INB_ACT_ORIG_STT', 'INB_ACT_ORIG_STX', 'INB_ACT_ORIG_SXM',\n",
    "       'INB_ACT_ORIG_SYR', 'INB_ACT_ORIG_TGU', 'INB_ACT_ORIG_TLH',\n",
    "       'INB_ACT_ORIG_TPA','INB_ACT_ORIG_TUL', 'INB_ACT_ORIG_TUS', \n",
    "        'INB_ACT_ORIG_TYS',\n",
    "       'INB_ACT_ORIG_UIO', 'INB_ACT_ORIG_UVF', 'INB_ACT_ORIG_VPS',\n",
    "       'INB_ACT_ORIG_VRA', 'INB_ACT_ORIG_VVI', 'INB_ACT_ORIG_XNA',\n",
    "       'INB_ACT_ORIG_YUL', 'INB_ACT_ORIG_YVR', 'INB_ACT_ORIG_YYZ',\n",
    "       'INB_ACT_ORIG_ZIH', 'INB_ACT_ORIG_ZSA','STATION_TYPE_DOM SPOKE',\n",
    "       'STATION_TYPE_HUB/GW', 'STATION_TYPE_INTL',\n",
    "       'SCHD_LEG_DEP_AIRPRT_IATA_CD_ABQ', 'SCHD_LEG_DEP_AIRPRT_IATA_CD_ALB',\n",
    "       'SCHD_LEG_DEP_AIRPRT_IATA_CD_AMA', 'SCHD_LEG_DEP_AIRPRT_IATA_CD_AMS',\n",
    "       'SCHD_LEG_DEP_AIRPRT_IATA_CD_ANC', 'SCHD_LEG_DEP_AIRPRT_IATA_CD_ANU',\n",
    "       'SCHD_LEG_DEP_AIRPRT_IATA_CD_ATL', 'SCHD_LEG_DEP_AIRPRT_IATA_CD_AUA',\n",
    "       'SCHD_LEG_DEP_AIRPRT_IATA_CD_AUS', 'SCHD_LEG_DEP_AIRPRT_IATA_CD_BAQ',\n",
    "       'SCHD_LEG_DEP_AIRPRT_IATA_CD_BDA', 'SCHD_LEG_DEP_AIRPRT_IATA_CD_BDL',\n",
    "       'SCHD_LEG_DEP_AIRPRT_IATA_CD_BGI', 'SCHD_LEG_DEP_AIRPRT_IATA_CD_BHX',\n",
    "       'SCHD_LEG_DEP_AIRPRT_IATA_CD_BJX', 'SCHD_LEG_DEP_AIRPRT_IATA_CD_BNA',\n",
    "       'SCHD_LEG_DEP_AIRPRT_IATA_CD_BOG', 'SCHD_LEG_DEP_AIRPRT_IATA_CD_BOI',\n",
    "       'SCHD_LEG_DEP_AIRPRT_IATA_CD_BON', 'SCHD_LEG_DEP_AIRPRT_IATA_CD_BOS',\n",
    "       'SCHD_LEG_DEP_AIRPRT_IATA_CD_BSB', 'SCHD_LEG_DEP_AIRPRT_IATA_CD_BTV',\n",
    "       'SCHD_LEG_DEP_AIRPRT_IATA_CD_BUF', 'SCHD_LEG_DEP_AIRPRT_IATA_CD_BWI',\n",
    "       'SCHD_LEG_DEP_AIRPRT_IATA_CD_BZE', 'SCHD_LEG_DEP_AIRPRT_IATA_CD_BZN',\n",
    "       'SCHD_LEG_DEP_AIRPRT_IATA_CD_CAE', 'SCHD_LEG_DEP_AIRPRT_IATA_CD_CAP',\n",
    "       'SCHD_LEG_DEP_AIRPRT_IATA_CD_CCS', 'SCHD_LEG_DEP_AIRPRT_IATA_CD_CDG',\n",
    "       'SCHD_LEG_DEP_AIRPRT_IATA_CD_CFG', 'SCHD_LEG_DEP_AIRPRT_IATA_CD_CHS',\n",
    "       'SCHD_LEG_DEP_AIRPRT_IATA_CD_CLE', 'SCHD_LEG_DEP_AIRPRT_IATA_CD_CLT',\n",
    "       'SCHD_LEG_DEP_AIRPRT_IATA_CD_CMH', 'SCHD_LEG_DEP_AIRPRT_IATA_CD_CMW',\n",
    "       'SCHD_LEG_DEP_AIRPRT_IATA_CD_COS', 'SCHD_LEG_DEP_AIRPRT_IATA_CD_CTG',\n",
    "       'SCHD_LEG_DEP_AIRPRT_IATA_CD_CUN', 'SCHD_LEG_DEP_AIRPRT_IATA_CD_CUR',\n",
    "       'SCHD_LEG_DEP_AIRPRT_IATA_CD_CVG', 'SCHD_LEG_DEP_AIRPRT_IATA_CD_CZM',\n",
    "       'SCHD_LEG_DEP_AIRPRT_IATA_CD_DAY', 'SCHD_LEG_DEP_AIRPRT_IATA_CD_DCA',\n",
    "       'SCHD_LEG_DEP_AIRPRT_IATA_CD_DEN', 'SCHD_LEG_DEP_AIRPRT_IATA_CD_DFW',\n",
    "       'SCHD_LEG_DEP_AIRPRT_IATA_CD_DSM', 'SCHD_LEG_DEP_AIRPRT_IATA_CD_DTW',\n",
    "       'SCHD_LEG_DEP_AIRPRT_IATA_CD_DUB', 'SCHD_LEG_DEP_AIRPRT_IATA_CD_EDI',\n",
    "       'SCHD_LEG_DEP_AIRPRT_IATA_CD_EGE', 'SCHD_LEG_DEP_AIRPRT_IATA_CD_ELP',\n",
    "        'SCHD_LEG_DEP_AIRPRT_IATA_CD_EWR', 'SCHD_LEG_DEP_AIRPRT_IATA_CD_FAT',\n",
    "       'SCHD_LEG_DEP_AIRPRT_IATA_CD_FDF', 'SCHD_LEG_DEP_AIRPRT_IATA_CD_FLL',\n",
    "       'SCHD_LEG_DEP_AIRPRT_IATA_CD_FPO', 'SCHD_LEG_DEP_AIRPRT_IATA_CD_GCM',\n",
    "       'SCHD_LEG_DEP_AIRPRT_IATA_CD_GDL', 'SCHD_LEG_DEP_AIRPRT_IATA_CD_GEG',\n",
    "       'SCHD_LEG_DEP_AIRPRT_IATA_CD_GEO', 'SCHD_LEG_DEP_AIRPRT_IATA_CD_GLA',\n",
    "       'SCHD_LEG_DEP_AIRPRT_IATA_CD_GND', 'SCHD_LEG_DEP_AIRPRT_IATA_CD_GRR',\n",
    "       'SCHD_LEG_DEP_AIRPRT_IATA_CD_GSO', 'SCHD_LEG_DEP_AIRPRT_IATA_CD_GSP',\n",
    "       'SCHD_LEG_DEP_AIRPRT_IATA_CD_GUA', 'SCHD_LEG_DEP_AIRPRT_IATA_CD_GUC',\n",
    "       'SCHD_LEG_DEP_AIRPRT_IATA_CD_GYE', 'SCHD_LEG_DEP_AIRPRT_IATA_CD_HAV',\n",
    "       'SCHD_LEG_DEP_AIRPRT_IATA_CD_HDN', 'SCHD_LEG_DEP_AIRPRT_IATA_CD_HNL',\n",
    "       'SCHD_LEG_DEP_AIRPRT_IATA_CD_HOG', 'SCHD_LEG_DEP_AIRPRT_IATA_CD_IAD',\n",
    "       'SCHD_LEG_DEP_AIRPRT_IATA_CD_IAH', 'SCHD_LEG_DEP_AIRPRT_IATA_CD_ICT',\n",
    "       'SCHD_LEG_DEP_AIRPRT_IATA_CD_ILM', 'SCHD_LEG_DEP_AIRPRT_IATA_CD_IND',\n",
    "       'SCHD_LEG_DEP_AIRPRT_IATA_CD_JAC', 'SCHD_LEG_DEP_AIRPRT_IATA_CD_JAX',\n",
    "       'SCHD_LEG_DEP_AIRPRT_IATA_CD_JFK', 'SCHD_LEG_DEP_AIRPRT_IATA_CD_KEF',\n",
    "       'SCHD_LEG_DEP_AIRPRT_IATA_CD_KIN', 'SCHD_LEG_DEP_AIRPRT_IATA_CD_KOA',\n",
    "       'SCHD_LEG_DEP_AIRPRT_IATA_CD_LAS', 'SCHD_LEG_DEP_AIRPRT_IATA_CD_LAX',\n",
    "       'SCHD_LEG_DEP_AIRPRT_IATA_CD_LBB', 'SCHD_LEG_DEP_AIRPRT_IATA_CD_LGA',\n",
    "       'SCHD_LEG_DEP_AIRPRT_IATA_CD_LIH', 'SCHD_LEG_DEP_AIRPRT_IATA_CD_LIM',\n",
    "       'SCHD_LEG_DEP_AIRPRT_IATA_CD_LIR', 'SCHD_LEG_DEP_AIRPRT_IATA_CD_LIS',\n",
    "       'SCHD_LEG_DEP_AIRPRT_IATA_CD_LIT', 'SCHD_LEG_DEP_AIRPRT_IATA_CD_MAD',\n",
    "       'SCHD_LEG_DEP_AIRPRT_IATA_CD_MAN', 'SCHD_LEG_DEP_AIRPRT_IATA_CD_MAO',\n",
    "       'SCHD_LEG_DEP_AIRPRT_IATA_CD_MAR', 'SCHD_LEG_DEP_AIRPRT_IATA_CD_MBJ',\n",
    "       'SCHD_LEG_DEP_AIRPRT_IATA_CD_MCI', 'SCHD_LEG_DEP_AIRPRT_IATA_CD_MCO',\n",
    "       'SCHD_LEG_DEP_AIRPRT_IATA_CD_MDE', 'SCHD_LEG_DEP_AIRPRT_IATA_CD_MDT',\n",
    "       'SCHD_LEG_DEP_AIRPRT_IATA_CD_MEM', 'SCHD_LEG_DEP_AIRPRT_IATA_CD_MEX',\n",
    "       'SCHD_LEG_DEP_AIRPRT_IATA_CD_MFE', 'SCHD_LEG_DEP_AIRPRT_IATA_CD_MGA',\n",
    "       'SCHD_LEG_DEP_AIRPRT_IATA_CD_MHT', 'SCHD_LEG_DEP_AIRPRT_IATA_CD_MIA',\n",
    "       'SCHD_LEG_DEP_AIRPRT_IATA_CD_MKE', 'SCHD_LEG_DEP_AIRPRT_IATA_CD_MSP',\n",
    "       'SCHD_LEG_DEP_AIRPRT_IATA_CD_MSY', 'SCHD_LEG_DEP_AIRPRT_IATA_CD_MTJ',\n",
    "       'SCHD_LEG_DEP_AIRPRT_IATA_CD_MYR', 'SCHD_LEG_DEP_AIRPRT_IATA_CD_MZT',\n",
    "       'SCHD_LEG_DEP_AIRPRT_IATA_CD_NAS', 'SCHD_LEG_DEP_AIRPRT_IATA_CD_OAK',\n",
    "       'SCHD_LEG_DEP_AIRPRT_IATA_CD_OGG', 'SCHD_LEG_DEP_AIRPRT_IATA_CD_OKC',\n",
    "       'SCHD_LEG_DEP_AIRPRT_IATA_CD_OMA', 'SCHD_LEG_DEP_AIRPRT_IATA_CD_ONT',\n",
    "       'SCHD_LEG_DEP_AIRPRT_IATA_CD_ORD', 'SCHD_LEG_DEP_AIRPRT_IATA_CD_ORF',\n",
    "       'SCHD_LEG_DEP_AIRPRT_IATA_CD_PAP', 'SCHD_LEG_DEP_AIRPRT_IATA_CD_PBI',\n",
    "       'SCHD_LEG_DEP_AIRPRT_IATA_CD_PDX', 'SCHD_LEG_DEP_AIRPRT_IATA_CD_PEI',\n",
    "       'SCHD_LEG_DEP_AIRPRT_IATA_CD_PHL', 'SCHD_LEG_DEP_AIRPRT_IATA_CD_PHX',\n",
    "       'SCHD_LEG_DEP_AIRPRT_IATA_CD_PIT', 'SCHD_LEG_DEP_AIRPRT_IATA_CD_PLS',\n",
    "       'SCHD_LEG_DEP_AIRPRT_IATA_CD_PNS', 'SCHD_LEG_DEP_AIRPRT_IATA_CD_POP',\n",
    "       'SCHD_LEG_DEP_AIRPRT_IATA_CD_POS', 'SCHD_LEG_DEP_AIRPRT_IATA_CD_PSP',\n",
    "       'SCHD_LEG_DEP_AIRPRT_IATA_CD_PTP', 'SCHD_LEG_DEP_AIRPRT_IATA_CD_PTY',\n",
    "       'SCHD_LEG_DEP_AIRPRT_IATA_CD_PUJ', 'SCHD_LEG_DEP_AIRPRT_IATA_CD_PVD',\n",
    "       'SCHD_LEG_DEP_AIRPRT_IATA_CD_PVR', 'SCHD_LEG_DEP_AIRPRT_IATA_CD_PWM',\n",
    "       'SCHD_LEG_DEP_AIRPRT_IATA_CD_RDU', 'SCHD_LEG_DEP_AIRPRT_IATA_CD_RIC',\n",
    "       'SCHD_LEG_DEP_AIRPRT_IATA_CD_RNO', 'SCHD_LEG_DEP_AIRPRT_IATA_CD_ROC',\n",
    "       'SCHD_LEG_DEP_AIRPRT_IATA_CD_RSW', 'SCHD_LEG_DEP_AIRPRT_IATA_CD_RTB',\n",
    "       'SCHD_LEG_DEP_AIRPRT_IATA_CD_SAL', 'SCHD_LEG_DEP_AIRPRT_IATA_CD_SAN',\n",
    "       'SCHD_LEG_DEP_AIRPRT_IATA_CD_SAP', 'SCHD_LEG_DEP_AIRPRT_IATA_CD_SAT',\n",
    "       'SCHD_LEG_DEP_AIRPRT_IATA_CD_SAV', 'SCHD_LEG_DEP_AIRPRT_IATA_CD_SBA',\n",
    "        'SCHD_LEG_DEP_AIRPRT_IATA_CD_SDF', 'SCHD_LEG_DEP_AIRPRT_IATA_CD_SDQ',\n",
    "       'SCHD_LEG_DEP_AIRPRT_IATA_CD_SEA', 'SCHD_LEG_DEP_AIRPRT_IATA_CD_SFO',\n",
    "       'SCHD_LEG_DEP_AIRPRT_IATA_CD_SJC', 'SCHD_LEG_DEP_AIRPRT_IATA_CD_SJD',\n",
    "       'SCHD_LEG_DEP_AIRPRT_IATA_CD_SJO', 'SCHD_LEG_DEP_AIRPRT_IATA_CD_SJU',\n",
    "       'SCHD_LEG_DEP_AIRPRT_IATA_CD_SKB', 'SCHD_LEG_DEP_AIRPRT_IATA_CD_SLC',\n",
    "       'SCHD_LEG_DEP_AIRPRT_IATA_CD_SMF', 'SCHD_LEG_DEP_AIRPRT_IATA_CD_SNA',\n",
    "       'SCHD_LEG_DEP_AIRPRT_IATA_CD_SNN', 'SCHD_LEG_DEP_AIRPRT_IATA_CD_SNU',\n",
    "       'SCHD_LEG_DEP_AIRPRT_IATA_CD_SRQ', 'SCHD_LEG_DEP_AIRPRT_IATA_CD_STI',\n",
    "       'SCHD_LEG_DEP_AIRPRT_IATA_CD_STL', 'SCHD_LEG_DEP_AIRPRT_IATA_CD_STT',\n",
    "       'SCHD_LEG_DEP_AIRPRT_IATA_CD_STX', 'SCHD_LEG_DEP_AIRPRT_IATA_CD_SXM',\n",
    "       'SCHD_LEG_DEP_AIRPRT_IATA_CD_SYR', 'SCHD_LEG_DEP_AIRPRT_IATA_CD_TGU',\n",
    "       'SCHD_LEG_DEP_AIRPRT_IATA_CD_TPA', 'SCHD_LEG_DEP_AIRPRT_IATA_CD_TUL',\n",
    "       'SCHD_LEG_DEP_AIRPRT_IATA_CD_TUS', 'SCHD_LEG_DEP_AIRPRT_IATA_CD_UIO',\n",
    "       'SCHD_LEG_DEP_AIRPRT_IATA_CD_UVF', 'SCHD_LEG_DEP_AIRPRT_IATA_CD_VPS',\n",
    "       'SCHD_LEG_DEP_AIRPRT_IATA_CD_VRA', 'SCHD_LEG_DEP_AIRPRT_IATA_CD_VVI',\n",
    "       'SCHD_LEG_DEP_AIRPRT_IATA_CD_XNA', 'SCHD_LEG_DEP_AIRPRT_IATA_CD_YUL',\n",
    "       'SCHD_LEG_DEP_AIRPRT_IATA_CD_YVR', 'SCHD_LEG_DEP_AIRPRT_IATA_CD_YYZ',\n",
    "       'SCHD_LEG_DEP_AIRPRT_IATA_CD_ZIH', 'SCHD_LEG_DEP_AIRPRT_IATA_CD_ZSA',\n",
    "       'SCHD_LEG_ARVL_AIRPRT_IATA_CD_ABQ', 'SCHD_LEG_ARVL_AIRPRT_IATA_CD_ALB',\n",
    "       'SCHD_LEG_ARVL_AIRPRT_IATA_CD_AMA', 'SCHD_LEG_ARVL_AIRPRT_IATA_CD_AMS',\n",
    "       'SCHD_LEG_ARVL_AIRPRT_IATA_CD_ANC', 'SCHD_LEG_ARVL_AIRPRT_IATA_CD_ANU',\n",
    "       'SCHD_LEG_ARVL_AIRPRT_IATA_CD_ATL', 'SCHD_LEG_ARVL_AIRPRT_IATA_CD_AUA',\n",
    "       'SCHD_LEG_ARVL_AIRPRT_IATA_CD_AUS', 'SCHD_LEG_ARVL_AIRPRT_IATA_CD_BAQ',\n",
    "       'SCHD_LEG_ARVL_AIRPRT_IATA_CD_BDA', 'SCHD_LEG_ARVL_AIRPRT_IATA_CD_BDL',\n",
    "       'SCHD_LEG_ARVL_AIRPRT_IATA_CD_BGI', 'SCHD_LEG_ARVL_AIRPRT_IATA_CD_BHX',\n",
    "       'SCHD_LEG_ARVL_AIRPRT_IATA_CD_BJX', 'SCHD_LEG_ARVL_AIRPRT_IATA_CD_BNA',\n",
    "       'SCHD_LEG_ARVL_AIRPRT_IATA_CD_BOG', 'SCHD_LEG_ARVL_AIRPRT_IATA_CD_BOI',\n",
    "       'SCHD_LEG_ARVL_AIRPRT_IATA_CD_BON', 'SCHD_LEG_ARVL_AIRPRT_IATA_CD_BOS',\n",
    "       'SCHD_LEG_ARVL_AIRPRT_IATA_CD_BSB', 'SCHD_LEG_ARVL_AIRPRT_IATA_CD_BTV',\n",
    "       'SCHD_LEG_ARVL_AIRPRT_IATA_CD_BUF', 'SCHD_LEG_ARVL_AIRPRT_IATA_CD_BWI',\n",
    "       'SCHD_LEG_ARVL_AIRPRT_IATA_CD_BZE', 'SCHD_LEG_ARVL_AIRPRT_IATA_CD_BZN',\n",
    "       'SCHD_LEG_ARVL_AIRPRT_IATA_CD_CAE', 'SCHD_LEG_ARVL_AIRPRT_IATA_CD_CAP',\n",
    "       'SCHD_LEG_ARVL_AIRPRT_IATA_CD_CCS', 'SCHD_LEG_ARVL_AIRPRT_IATA_CD_CDG',\n",
    "       'SCHD_LEG_ARVL_AIRPRT_IATA_CD_CFG', 'SCHD_LEG_ARVL_AIRPRT_IATA_CD_CHS',\n",
    "       'SCHD_LEG_ARVL_AIRPRT_IATA_CD_CLE', 'SCHD_LEG_ARVL_AIRPRT_IATA_CD_CLO',\n",
    "       'SCHD_LEG_ARVL_AIRPRT_IATA_CD_CLT', 'SCHD_LEG_ARVL_AIRPRT_IATA_CD_CMH',\n",
    "       'SCHD_LEG_ARVL_AIRPRT_IATA_CD_CMW', 'SCHD_LEG_ARVL_AIRPRT_IATA_CD_COS',\n",
    "       'SCHD_LEG_ARVL_AIRPRT_IATA_CD_CRP', 'SCHD_LEG_ARVL_AIRPRT_IATA_CD_CTG',\n",
    "       'SCHD_LEG_ARVL_AIRPRT_IATA_CD_CUN', 'SCHD_LEG_ARVL_AIRPRT_IATA_CD_CUR',\n",
    "       'SCHD_LEG_ARVL_AIRPRT_IATA_CD_CVG', 'SCHD_LEG_ARVL_AIRPRT_IATA_CD_CZM',\n",
    "       'SCHD_LEG_ARVL_AIRPRT_IATA_CD_DAY', 'SCHD_LEG_ARVL_AIRPRT_IATA_CD_DCA',\n",
    "       'SCHD_LEG_ARVL_AIRPRT_IATA_CD_DEN', 'SCHD_LEG_ARVL_AIRPRT_IATA_CD_DFW',\n",
    "       'SCHD_LEG_ARVL_AIRPRT_IATA_CD_DSM', 'SCHD_LEG_ARVL_AIRPRT_IATA_CD_DTW',\n",
    "       'SCHD_LEG_ARVL_AIRPRT_IATA_CD_DUB', 'SCHD_LEG_ARVL_AIRPRT_IATA_CD_EDI',\n",
    "       'SCHD_LEG_ARVL_AIRPRT_IATA_CD_EGE', 'SCHD_LEG_ARVL_AIRPRT_IATA_CD_ELP',\n",
    "       'SCHD_LEG_ARVL_AIRPRT_IATA_CD_EWR', 'SCHD_LEG_ARVL_AIRPRT_IATA_CD_FAT',\n",
    "       'SCHD_LEG_ARVL_AIRPRT_IATA_CD_FDF', 'SCHD_LEG_ARVL_AIRPRT_IATA_CD_FLL',\n",
    "       'SCHD_LEG_ARVL_AIRPRT_IATA_CD_GCM', 'SCHD_LEG_ARVL_AIRPRT_IATA_CD_GDL',\n",
    "       'SCHD_LEG_ARVL_AIRPRT_IATA_CD_GEG', 'SCHD_LEG_ARVL_AIRPRT_IATA_CD_GEO',\n",
    "       'SCHD_LEG_ARVL_AIRPRT_IATA_CD_GLA', 'SCHD_LEG_ARVL_AIRPRT_IATA_CD_GND', \n",
    "        'SCHD_LEG_ARVL_AIRPRT_IATA_CD_GRR', 'SCHD_LEG_ARVL_AIRPRT_IATA_CD_GSO',\n",
    "       'SCHD_LEG_ARVL_AIRPRT_IATA_CD_GSP', 'SCHD_LEG_ARVL_AIRPRT_IATA_CD_GUA',\n",
    "       'SCHD_LEG_ARVL_AIRPRT_IATA_CD_GUC', 'SCHD_LEG_ARVL_AIRPRT_IATA_CD_GYE',\n",
    "       'SCHD_LEG_ARVL_AIRPRT_IATA_CD_HAV', 'SCHD_LEG_ARVL_AIRPRT_IATA_CD_HDN',\n",
    "       'SCHD_LEG_ARVL_AIRPRT_IATA_CD_HNL', 'SCHD_LEG_ARVL_AIRPRT_IATA_CD_HOG',\n",
    "       'SCHD_LEG_ARVL_AIRPRT_IATA_CD_IAD', 'SCHD_LEG_ARVL_AIRPRT_IATA_CD_IAH',\n",
    "       'SCHD_LEG_ARVL_AIRPRT_IATA_CD_ICT', 'SCHD_LEG_ARVL_AIRPRT_IATA_CD_ILM',\n",
    "       'SCHD_LEG_ARVL_AIRPRT_IATA_CD_IND', 'SCHD_LEG_ARVL_AIRPRT_IATA_CD_JAC',\n",
    "       'SCHD_LEG_ARVL_AIRPRT_IATA_CD_JAX', 'SCHD_LEG_ARVL_AIRPRT_IATA_CD_JFK',\n",
    "       'SCHD_LEG_ARVL_AIRPRT_IATA_CD_KEF', 'SCHD_LEG_ARVL_AIRPRT_IATA_CD_KIN',\n",
    "       'SCHD_LEG_ARVL_AIRPRT_IATA_CD_KOA', 'SCHD_LEG_ARVL_AIRPRT_IATA_CD_LAS',\n",
    "       'SCHD_LEG_ARVL_AIRPRT_IATA_CD_LAX', 'SCHD_LEG_ARVL_AIRPRT_IATA_CD_LBB',\n",
    "       'SCHD_LEG_ARVL_AIRPRT_IATA_CD_LGA', 'SCHD_LEG_ARVL_AIRPRT_IATA_CD_LIH',\n",
    "       'SCHD_LEG_ARVL_AIRPRT_IATA_CD_LIM', 'SCHD_LEG_ARVL_AIRPRT_IATA_CD_LIR',\n",
    "       'SCHD_LEG_ARVL_AIRPRT_IATA_CD_LIS', 'SCHD_LEG_ARVL_AIRPRT_IATA_CD_LIT',\n",
    "       'SCHD_LEG_ARVL_AIRPRT_IATA_CD_LPB', 'SCHD_LEG_ARVL_AIRPRT_IATA_CD_MAD',\n",
    "       'SCHD_LEG_ARVL_AIRPRT_IATA_CD_MAN', 'SCHD_LEG_ARVL_AIRPRT_IATA_CD_MAO',\n",
    "       'SCHD_LEG_ARVL_AIRPRT_IATA_CD_MAR', 'SCHD_LEG_ARVL_AIRPRT_IATA_CD_MBJ',\n",
    "       'SCHD_LEG_ARVL_AIRPRT_IATA_CD_MCI', 'SCHD_LEG_ARVL_AIRPRT_IATA_CD_MCO',\n",
    "       'SCHD_LEG_ARVL_AIRPRT_IATA_CD_MDE', 'SCHD_LEG_ARVL_AIRPRT_IATA_CD_MDT',\n",
    "       'SCHD_LEG_ARVL_AIRPRT_IATA_CD_MEM', 'SCHD_LEG_ARVL_AIRPRT_IATA_CD_MEX',\n",
    "       'SCHD_LEG_ARVL_AIRPRT_IATA_CD_MFE', 'SCHD_LEG_ARVL_AIRPRT_IATA_CD_MGA',\n",
    "       'SCHD_LEG_ARVL_AIRPRT_IATA_CD_MHT', 'SCHD_LEG_ARVL_AIRPRT_IATA_CD_MIA',\n",
    "       'SCHD_LEG_ARVL_AIRPRT_IATA_CD_MKE', 'SCHD_LEG_ARVL_AIRPRT_IATA_CD_MLB',\n",
    "       'SCHD_LEG_ARVL_AIRPRT_IATA_CD_MSP', 'SCHD_LEG_ARVL_AIRPRT_IATA_CD_MSY',\n",
    "       'SCHD_LEG_ARVL_AIRPRT_IATA_CD_MTJ', 'SCHD_LEG_ARVL_AIRPRT_IATA_CD_MYR',\n",
    "       'SCHD_LEG_ARVL_AIRPRT_IATA_CD_MZT', 'SCHD_LEG_ARVL_AIRPRT_IATA_CD_NAS',\n",
    "       'SCHD_LEG_ARVL_AIRPRT_IATA_CD_OAK', 'SCHD_LEG_ARVL_AIRPRT_IATA_CD_OGG',\n",
    "       'SCHD_LEG_ARVL_AIRPRT_IATA_CD_OKC', 'SCHD_LEG_ARVL_AIRPRT_IATA_CD_OMA',\n",
    "       'SCHD_LEG_ARVL_AIRPRT_IATA_CD_ONT', 'SCHD_LEG_ARVL_AIRPRT_IATA_CD_ORD',\n",
    "       'SCHD_LEG_ARVL_AIRPRT_IATA_CD_ORF', 'SCHD_LEG_ARVL_AIRPRT_IATA_CD_PAP',\n",
    "       'SCHD_LEG_ARVL_AIRPRT_IATA_CD_PBI', 'SCHD_LEG_ARVL_AIRPRT_IATA_CD_PDX',\n",
    "       'SCHD_LEG_ARVL_AIRPRT_IATA_CD_PEI', 'SCHD_LEG_ARVL_AIRPRT_IATA_CD_PHL',\n",
    "       'SCHD_LEG_ARVL_AIRPRT_IATA_CD_PHX', 'SCHD_LEG_ARVL_AIRPRT_IATA_CD_PIT',\n",
    "       'SCHD_LEG_ARVL_AIRPRT_IATA_CD_PLS', 'SCHD_LEG_ARVL_AIRPRT_IATA_CD_PNS',\n",
    "       'SCHD_LEG_ARVL_AIRPRT_IATA_CD_POP', 'SCHD_LEG_ARVL_AIRPRT_IATA_CD_POS',\n",
    "       'SCHD_LEG_ARVL_AIRPRT_IATA_CD_PSP', 'SCHD_LEG_ARVL_AIRPRT_IATA_CD_PTP',\n",
    "       'SCHD_LEG_ARVL_AIRPRT_IATA_CD_PTY', 'SCHD_LEG_ARVL_AIRPRT_IATA_CD_PUJ',\n",
    "       'SCHD_LEG_ARVL_AIRPRT_IATA_CD_PVD', 'SCHD_LEG_ARVL_AIRPRT_IATA_CD_PVR',\n",
    "       'SCHD_LEG_ARVL_AIRPRT_IATA_CD_PWM', 'SCHD_LEG_ARVL_AIRPRT_IATA_CD_RDU',\n",
    "       'SCHD_LEG_ARVL_AIRPRT_IATA_CD_RIC', 'SCHD_LEG_ARVL_AIRPRT_IATA_CD_RNO',\n",
    "       'SCHD_LEG_ARVL_AIRPRT_IATA_CD_ROC', 'SCHD_LEG_ARVL_AIRPRT_IATA_CD_RSW',\n",
    "       'SCHD_LEG_ARVL_AIRPRT_IATA_CD_RTB', 'SCHD_LEG_ARVL_AIRPRT_IATA_CD_SAL',\n",
    "       'SCHD_LEG_ARVL_AIRPRT_IATA_CD_SAN', 'SCHD_LEG_ARVL_AIRPRT_IATA_CD_SAP',\n",
    "       'SCHD_LEG_ARVL_AIRPRT_IATA_CD_SAT', 'SCHD_LEG_ARVL_AIRPRT_IATA_CD_SAV',\n",
    "       'SCHD_LEG_ARVL_AIRPRT_IATA_CD_SBA', 'SCHD_LEG_ARVL_AIRPRT_IATA_CD_SDF',\n",
    "       'SCHD_LEG_ARVL_AIRPRT_IATA_CD_SDQ', 'SCHD_LEG_ARVL_AIRPRT_IATA_CD_SEA',\n",
    "       'SCHD_LEG_ARVL_AIRPRT_IATA_CD_SFO', 'SCHD_LEG_ARVL_AIRPRT_IATA_CD_SJC',\n",
    "       'SCHD_LEG_ARVL_AIRPRT_IATA_CD_SJD', 'SCHD_LEG_ARVL_AIRPRT_IATA_CD_SJO',\n",
    "       'SCHD_LEG_ARVL_AIRPRT_IATA_CD_SJU', 'SCHD_LEG_ARVL_AIRPRT_IATA_CD_SKB',\n",
    "        'SCHD_LEG_ARVL_AIRPRT_IATA_CD_SLC', 'SCHD_LEG_ARVL_AIRPRT_IATA_CD_SMF',\n",
    "       'SCHD_LEG_ARVL_AIRPRT_IATA_CD_SNA', 'SCHD_LEG_ARVL_AIRPRT_IATA_CD_SNN',\n",
    "       'SCHD_LEG_ARVL_AIRPRT_IATA_CD_SNU', 'SCHD_LEG_ARVL_AIRPRT_IATA_CD_SRQ',\n",
    "       'SCHD_LEG_ARVL_AIRPRT_IATA_CD_STI', 'SCHD_LEG_ARVL_AIRPRT_IATA_CD_STL',\n",
    "       'SCHD_LEG_ARVL_AIRPRT_IATA_CD_STT', 'SCHD_LEG_ARVL_AIRPRT_IATA_CD_STX',\n",
    "       'SCHD_LEG_ARVL_AIRPRT_IATA_CD_SXM', 'SCHD_LEG_ARVL_AIRPRT_IATA_CD_SYR',\n",
    "       'SCHD_LEG_ARVL_AIRPRT_IATA_CD_TGU', 'SCHD_LEG_ARVL_AIRPRT_IATA_CD_TPA',\n",
    "       'SCHD_LEG_ARVL_AIRPRT_IATA_CD_TUL', 'SCHD_LEG_ARVL_AIRPRT_IATA_CD_TUS',\n",
    "       'SCHD_LEG_ARVL_AIRPRT_IATA_CD_UIO', 'SCHD_LEG_ARVL_AIRPRT_IATA_CD_UVF',\n",
    "       'SCHD_LEG_ARVL_AIRPRT_IATA_CD_VPS', 'SCHD_LEG_ARVL_AIRPRT_IATA_CD_VRA',\n",
    "       'SCHD_LEG_ARVL_AIRPRT_IATA_CD_VVI', 'SCHD_LEG_ARVL_AIRPRT_IATA_CD_XNA',\n",
    "       'SCHD_LEG_ARVL_AIRPRT_IATA_CD_YUL', 'SCHD_LEG_ARVL_AIRPRT_IATA_CD_YVR',\n",
    "       'SCHD_LEG_ARVL_AIRPRT_IATA_CD_YYZ', 'SCHD_LEG_ARVL_AIRPRT_IATA_CD_ZIH',\n",
    "       'SCHD_LEG_ARVL_AIRPRT_IATA_CD_ZSA', 'PRIMARY_DELAY_REASON_ATC',\n",
    "       'PRIMARY_DELAY_REASON_CATERING', 'PRIMARY_DELAY_REASON_CONNECTIONS',\n",
    "       'PRIMARY_DELAY_REASON_DAMAGE', 'PRIMARY_DELAY_REASON_FLIGHT ATTENDANT',\n",
    "       'PRIMARY_DELAY_REASON_FLIGHT CREW', 'PRIMARY_DELAY_REASON_FUELING',\n",
    "       'PRIMARY_DELAY_REASON_IT',\n",
    "       'PRIMARY_DELAY_REASON_LATE ARRIVING EQUIPMENT',\n",
    "       'PRIMARY_DELAY_REASON_LOAD PLANNING',\n",
    "       'PRIMARY_DELAY_REASON_LOADING BAGGAGE/CARGO',\n",
    "       'PRIMARY_DELAY_REASON_MAINTENANCE',\n",
    "       'PRIMARY_DELAY_REASON_MISCELLANEOUS', 'PRIMARY_DELAY_REASON_NO DELAY',\n",
    "       'PRIMARY_DELAY_REASON_OPERATIONAL CODES',\n",
    "       'PRIMARY_DELAY_REASON_PASSENGER SERVICE', 'PRIMARY_DELAY_REASON_PILOT',\n",
    "       'PRIMARY_DELAY_REASON_SECURITY', 'PRIMARY_DELAY_REASON_SERVICING',\n",
    "       'PRIMARY_DELAY_REASON_UNKNOWN', 'PRIMARY_DELAY_REASON_WEATHER',\n",
    "       'inb_pct_full', 'outb_pct_full', 'sched_month', 'sched_day_of_week',\n",
    "       'sched_hour', 'arrival_hour']]\n",
    "\n",
    "features.head()"
   ]
  },
  {
   "cell_type": "markdown",
   "metadata": {},
   "source": [
    "#### Extract features and labels\n",
    "\n",
    "Here we create an array of features and an array of labels. The features will be the input to our model and the labels will be the outcome we are measuring (TURN_TIME)."
   ]
  },
  {
   "cell_type": "code",
   "execution_count": 9,
   "metadata": {},
   "outputs": [],
   "source": [
    "imp_features = features\n",
    "\n",
    "labels = np.array(features['TURN_TIME'])\n",
    "\n",
    "features = features.drop(['TURN_TIME'], axis=1)\n",
    "\n",
    "feature_list = list(features.columns)\n",
    "\n",
    "features = np.array(features)"
   ]
  },
  {
   "cell_type": "markdown",
   "metadata": {},
   "source": [
    "#### Split the data into training and testing sets"
   ]
  },
  {
   "cell_type": "code",
   "execution_count": null,
   "metadata": {},
   "outputs": [],
   "source": [
    "from sklearn.model_selection import train_test_split\n",
    "\n",
    "train_features, test_features, train_labels, test_labels = \\\n",
    "train_test_split(features, labels, test_size = 0.25)"
   ]
  },
  {
   "cell_type": "code",
   "execution_count": null,
   "metadata": {},
   "outputs": [],
   "source": [
    "print('Training Features Shape:', train_features.shape)\n",
    "print('Training Labels Shape:', train_labels.shape)\n",
    "print('Testing Features Shape:', test_features.shape)\n",
    "print('Testing Labels Shape:', test_labels.shape)"
   ]
  },
  {
   "cell_type": "markdown",
   "metadata": {},
   "source": [
    "## Train Model\n",
    "\n",
    "We train the model with Scikit-Learn's RandomForestRegressor."
   ]
  },
  {
   "cell_type": "code",
   "execution_count": null,
   "metadata": {},
   "outputs": [],
   "source": [
    "from sklearn.ensemble import RandomForestRegressor\n",
    "\n",
    "rf = RandomForestRegressor(n_estimators = 100)\n",
    "\n",
    "rf.fit(train_features, train_labels)"
   ]
  },
  {
   "cell_type": "markdown",
   "metadata": {},
   "source": [
    "## Make Predictions on the Test Set\n",
    "\n",
    "Predict the turn time for each flight in the test set and record the average error in seconds and percentage."
   ]
  },
  {
   "cell_type": "code",
   "execution_count": null,
   "metadata": {},
   "outputs": [],
   "source": [
    "from sklearn.metrics import mean_absolute_error\n",
    "\n",
    "predictions = rf.predict(test_features)\n",
    "\n",
    "# Calculate the Mean Absolute Error\n",
    "mae = round(mean_absolute_error(test_labels, predictions)/60,2)\n",
    "print('Mean Absolute Error:', mae, 'minutes.')\n",
    "\n",
    "# Calculate the Mean Absolute Percent Error\n",
    "errors = abs(predictions - test_labels)\n",
    "mape = 100 * (errors / test_labels)\n",
    "\n",
    "accuracy = 100 - np.mean(mape)\n",
    "print('Accuracy:', round(accuracy, 2), '%')"
   ]
  },
  {
   "cell_type": "markdown",
   "metadata": {},
   "source": [
    "## Final Results\n",
    "\n",
    "Here we create a DataFrame of the testing set, complete with our prediction, the real-world outcome, and a column comparing the two."
   ]
  },
  {
   "cell_type": "code",
   "execution_count": null,
   "metadata": {},
   "outputs": [],
   "source": [
    "# Create a DataFrame using the testing set\n",
    "testdf = pd.DataFrame(test_features, columns=feature_list)\n",
    "\n",
    "# Add the prediction and actual outcome columns\n",
    "testdf['prediction'] = predictions\n",
    "testdf['actual'] = test_labels\n",
    "\n",
    "# Add the prediction and actual under_MOGT columns\n",
    "testdf['actual_under_MOGT'] = testdf['actual'] <= (testdf['MOGT'] * 60)\n",
    "testdf['pred_under_MOGT'] = testdf['prediction'] <= (testdf['MOGT'] * 60)\n",
    "\n",
    "# Add a column to show if our prediction was correct\n",
    "testdf['correct'] = testdf['actual_under_MOGT'] == testdf['pred_under_MOGT']\n",
    "\n",
    "\n",
    "testdf.head()"
   ]
  },
  {
   "cell_type": "markdown",
   "metadata": {},
   "source": [
    "#### Accuracy Score\n",
    "\n",
    "The following score shows our accuracy in guessing if the plane will be turned under or over MOGT."
   ]
  },
  {
   "cell_type": "code",
   "execution_count": null,
   "metadata": {},
   "outputs": [],
   "source": [
    "print('Accuracy Score: {:.2%}'.format(testdf.correct.sum() / len(testdf.correct)))"
   ]
  },
  {
   "cell_type": "markdown",
   "metadata": {},
   "source": [
    "## Variable Importances"
   ]
  },
  {
   "cell_type": "code",
   "execution_count": null,
   "metadata": {
    "scrolled": false
   },
   "outputs": [],
   "source": [
    "# Feature importance to predicting the dependent variable\n",
    "feature_imp = pd.Series(rf.feature_importances_,index=feature_list).sort_values(ascending=False)\n",
    "feature_imp = feature_imp[:30]\n",
    "df = pd.DataFrame(feature_imp)\n",
    "features_list= df.index\n",
    "features_list"
   ]
  },
  {
   "cell_type": "markdown",
   "metadata": {},
   "source": [
    "#### Visualize the relative feature importances"
   ]
  },
  {
   "cell_type": "code",
   "execution_count": null,
   "metadata": {},
   "outputs": [],
   "source": [
    "import matplotlib.pyplot as plt\n",
    "import seaborn as sns\n",
    "\n",
    "# Creating a bar plot\n",
    "plt.figure(figsize=(15,7))\n",
    "sns.barplot(x=feature_imp, y=feature_imp.index)\n",
    "\n",
    "# Add labels to your graph\n",
    "plt.xlabel('Feature Importance Score')\n",
    "plt.ylabel('Features')\n",
    "plt.title(\"Visualizing Important Features\")\n",
    "plt.legend()\n",
    "plt.show()"
   ]
  },
  {
   "cell_type": "markdown",
   "metadata": {},
   "source": [
    "## Create Random Forest Model with Important Features"
   ]
  },
  {
   "cell_type": "code",
   "execution_count": 10,
   "metadata": {},
   "outputs": [],
   "source": [
    "imp_features = imp_features[['TURN_TIME', 'MOGT', \n",
    "                                'AVL_GRND_TM', 'PRIMARY_DELAY_REASON_MAINTENANCE',\n",
    "                                'PRIMARY_DELAY_REASON_WEATHER', 'PRIMARY_DELAY_REASON_ATC',\n",
    "                                'outb_pct_full', 'PRIMARY_DELAY_REASON_NO DELAY',\n",
    "                                'PRIMARY_DELAY_REASON_FLIGHT CREW',\n",
    "                                'PRIMARY_DELAY_REASON_LATE ARRIVING EQUIPMENT', 'OUTB_PAX',\n",
    "                                'OPERAT_FLIGHT_NBR', 'INB_FLIGHT', 'PRIMARY_DELAY_REASON_PILOT',\n",
    "                                'INB_PAX', 'inb_pct_full', 'PRIMARY_DELAY_REASON_DAMAGE',\n",
    "                                'PRIMARY_DELAY_REASON_FLIGHT ATTENDANT', 'STATION_TYPE_HUB/GW',\n",
    "                                'LAST_BAG_ON', 'FIRST_PAX_ON', 'ACT_DTTM', 'FIRST_QRTL_PAX_ON',\n",
    "                                'THIRD_QRTL_PAX_ON', 'FA_MIN_CREW', 'SKD_DTTM', 'INB_ACT_DTTM',\n",
    "                                'MEDIAN_BAG_ON', 'FIRST_BAG_ON', 'MEDIAN_BAG_OFF',\n",
    "                                'THIRD_QRTL_BAG_OFF']]\n",
    "labels = np.array(imp_features['TURN_TIME'])\n",
    "imp_features = imp_features.drop(['TURN_TIME'], axis=1)\n",
    "imp_features_list=imp_features.columns\n",
    "imp_features = np.array(imp_features)"
   ]
  },
  {
   "cell_type": "markdown",
   "metadata": {},
   "source": [
    "### K Fold Cross Validation \n",
    "\n",
    "This section randomly splits the dataset into K folds. For each K fold, the model is built around K-1 folds of the dataset. The model is tested for effectiveness on the Kth fold."
   ]
  },
  {
   "cell_type": "code",
   "execution_count": 11,
   "metadata": {
    "scrolled": false
   },
   "outputs": [
    {
     "name": "stdout",
     "output_type": "stream",
     "text": [
      "Train: [     0      1      2 ... 158057 158058 158059] Validation: [    12     20     24 ... 158033 158051 158056]\n",
      "Train: [     0      2      3 ... 158057 158058 158059] Validation: [     1     10     19 ... 158042 158043 158049]\n",
      "Train: [     0      1      2 ... 158057 158058 158059] Validation: [     7     15     23 ... 158022 158027 158047]\n",
      "Train: [     0      1      2 ... 158057 158058 158059] Validation: [     6      8     16 ... 158018 158031 158032]\n",
      "Train: [     0      1      2 ... 158056 158057 158059] Validation: [    13     18     22 ... 158044 158048 158058]\n",
      "Train: [     0      1      2 ... 158056 158058 158059] Validation: [     3     14     35 ... 158040 158055 158057]\n",
      "Train: [     0      1      3 ... 158057 158058 158059] Validation: [     2      4      9 ... 158039 158041 158046]\n",
      "Train: [     1      2      3 ... 158057 158058 158059] Validation: [     0      5     11 ... 158038 158045 158053]\n",
      "Train: [     0      1      2 ... 158056 158057 158058] Validation: [    21     27     37 ... 158050 158054 158059]\n",
      "Train: [     0      1      2 ... 158057 158058 158059] Validation: [    25     28     29 ... 158016 158019 158052]\n",
      "Train: [     0      1      2 ... 158057 158058 158059] Validation: [     8     14     30 ... 158002 158025 158052]\n",
      "Train: [     0      1      2 ... 158057 158058 158059] Validation: [    22     28     41 ... 158017 158042 158051]\n",
      "Train: [     0      1      2 ... 158057 158058 158059] Validation: [     9     10     23 ... 158034 158043 158055]\n",
      "Train: [     0      1      3 ... 158057 158058 158059] Validation: [     2     11     16 ... 158003 158015 158050]\n",
      "Train: [     0      2      3 ... 158057 158058 158059] Validation: [     1     21     32 ... 158049 158053 158054]\n",
      "Train: [     0      1      2 ... 158057 158058 158059] Validation: [     6     42     46 ... 158039 158044 158045]\n",
      "Train: [     0      1      2 ... 158057 158058 158059] Validation: [     3     15     24 ... 158028 158033 158046]\n",
      "Train: [     0      1      2 ... 158056 158057 158058] Validation: [     5     18     25 ... 158041 158047 158059]\n",
      "Train: [     0      1      2 ... 158054 158055 158059] Validation: [     4      7     27 ... 158056 158057 158058]\n",
      "Train: [     1      2      3 ... 158057 158058 158059] Validation: [     0     12     13 ... 158008 158010 158037]\n",
      "Train: [     0      1      2 ... 158056 158058 158059] Validation: [     6     15     35 ... 158040 158050 158057]\n",
      "Train: [     0      2      3 ... 158057 158058 158059] Validation: [     1     13     17 ... 157994 158005 158026]\n",
      "Train: [     1      2      3 ... 158057 158058 158059] Validation: [     0     16     44 ... 158020 158021 158042]\n",
      "Train: [     0      1      2 ... 158057 158058 158059] Validation: [    51     54     60 ... 158004 158032 158041]\n",
      "Train: [     0      1      3 ... 158057 158058 158059] Validation: [     2     18     40 ... 158045 158047 158053]\n",
      "Train: [     0      1      2 ... 158057 158058 158059] Validation: [     3      5     10 ... 158033 158043 158055]\n",
      "Train: [     0      1      2 ... 158057 158058 158059] Validation: [     9     25     26 ... 158039 158046 158056]\n",
      "Train: [     0      1      2 ... 158055 158056 158057] Validation: [    20     27     52 ... 158052 158058 158059]\n",
      "Train: [     0      1      2 ... 158057 158058 158059] Validation: [     7      8     12 ... 158038 158044 158051]\n",
      "Train: [     0      1      2 ... 158057 158058 158059] Validation: [     4     11     31 ... 158031 158049 158054]\n",
      "Train: [     0      1      2 ... 158056 158057 158059] Validation: [     8     10     15 ... 158042 158043 158058]\n",
      "Train: [     0      1      2 ... 158057 158058 158059] Validation: [    13     22     27 ... 158023 158040 158055]\n",
      "Train: [     0      2      3 ... 158057 158058 158059] Validation: [     1     20     32 ... 158041 158047 158052]\n",
      "Train: [     0      1      2 ... 158057 158058 158059] Validation: [     4     11     21 ... 158036 158045 158050]\n",
      "Train: [     1      2      4 ... 158057 158058 158059] Validation: [     0      3      5 ... 158039 158044 158053]\n",
      "Train: [     0      1      2 ... 158057 158058 158059] Validation: [     7     12     29 ... 158009 158010 158027]\n",
      "Train: [     0      1      2 ... 158057 158058 158059] Validation: [     6      9     28 ... 158030 158032 158037]\n",
      "Train: [     0      1      3 ... 158057 158058 158059] Validation: [     2     14     17 ... 158046 158048 158049]\n",
      "Train: [     0      1      2 ... 158056 158058 158059] Validation: [    18     26     36 ... 158006 158029 158057]\n",
      "Train: [     0      1      2 ... 158055 158057 158058] Validation: [    23     24     30 ... 158054 158056 158059]\n",
      "Train: [     0      1      2 ... 158056 158057 158059] Validation: [    39     57     65 ... 158049 158052 158058]\n",
      "Train: [     0      1      2 ... 158057 158058 158059] Validation: [     7     17     18 ... 158008 158023 158048]\n",
      "Train: [     0      2      3 ... 158057 158058 158059] Validation: [     1     16     23 ... 158021 158040 158044]\n",
      "Train: [     1      2      3 ... 158057 158058 158059] Validation: [     0     29     43 ... 158029 158032 158041]\n",
      "Train: [     0      1      2 ... 158057 158058 158059] Validation: [    11     31     33 ... 157988 158033 158035]\n",
      "Train: [     0      1      2 ... 158055 158057 158058] Validation: [     6     13     14 ... 158054 158056 158059]\n",
      "Train: [     0      1      2 ... 158057 158058 158059] Validation: [    19     36     45 ... 158046 158047 158050]\n",
      "Train: [     0      1      2 ... 158057 158058 158059] Validation: [     9     12     20 ... 158009 158039 158042]\n",
      "Train: [     0      1      5 ... 158056 158058 158059] Validation: [     2      3      4 ... 158026 158051 158057]\n",
      "Train: [     0      1      2 ... 158057 158058 158059] Validation: [     5     10     15 ... 158031 158038 158055]\n",
      "Train: [     0      1      2 ... 158057 158058 158059] Validation: [     7     23     63 ... 158038 158048 158049]\n",
      "Train: [     0      1      2 ... 158057 158058 158059] Validation: [    14     17     21 ... 158033 158040 158046]\n",
      "Train: [     0      1      2 ... 158055 158056 158058] Validation: [     4     11     22 ... 158052 158057 158059]\n",
      "Train: [     0      1      3 ... 158057 158058 158059] Validation: [     2     15     16 ... 158025 158036 158051]\n",
      "Train: [     1      2      3 ... 158057 158058 158059] Validation: [     0     12     27 ... 158042 158047 158054]\n",
      "Train: [     0      1      2 ... 158057 158058 158059] Validation: [    38     60     66 ... 158029 158034 158044]\n",
      "Train: [     0      1      2 ... 158056 158057 158059] Validation: [     3      5     19 ... 158050 158053 158058]\n",
      "Train: [     0      2      3 ... 158057 158058 158059] Validation: [     1      6      8 ... 158041 158055 158056]\n",
      "Train: [     0      1      2 ... 158057 158058 158059] Validation: [     9     13     26 ... 157981 158013 158045]\n",
      "Train: [     0      1      2 ... 158057 158058 158059] Validation: [    10     34     65 ... 158015 158021 158030]\n",
      "Train: [     0      1      2 ... 158057 158058 158059] Validation: [    24     27     37 ... 158034 158052 158055]\n",
      "Train: [     0      1      2 ... 158057 158058 158059] Validation: [     7      9     13 ... 158030 158043 158056]\n",
      "Train: [     0      1      2 ... 158056 158058 158059] Validation: [     3     21     26 ... 158038 158042 158057]\n",
      "Train: [     0      1      2 ... 158056 158057 158058] Validation: [     6     32     51 ... 158032 158054 158059]\n",
      "Train: [     0      1      2 ... 158057 158058 158059] Validation: [    19     30     42 ... 158019 158044 158047]\n",
      "Train: [     0      1      2 ... 158057 158058 158059] Validation: [     4     23     28 ... 158029 158035 158049]\n",
      "Train: [     0      1      2 ... 158056 158057 158059] Validation: [     5     16     20 ... 158045 158046 158058]\n",
      "Train: [     0      1      3 ... 158057 158058 158059] Validation: [     2     11     15 ... 158036 158050 158053]\n",
      "Train: [     2      3      4 ... 158057 158058 158059] Validation: [     0      1      8 ... 158023 158039 158048]\n",
      "Train: [     0      1      2 ... 158057 158058 158059] Validation: [    10     44     65 ... 158021 158025 158051]\n",
      "Train: [     0      1      2 ... 158056 158057 158058] Validation: [     5     25     26 ... 158045 158050 158059]\n",
      "Train: [     0      2      3 ... 158057 158058 158059] Validation: [     1      6      9 ... 158024 158049 158052]\n",
      "Train: [     1      2      3 ... 158056 158057 158059] Validation: [     0     21     23 ... 158046 158051 158058]\n",
      "Train: [     0      1      2 ... 158057 158058 158059] Validation: [    13     16     18 ... 158048 158054 158056]\n",
      "Train: [     0      1      2 ... 158057 158058 158059] Validation: [     8     11     31 ... 158035 158036 158044]\n",
      "Train: [     0      1      2 ... 158057 158058 158059] Validation: [     3     12     24 ... 158020 158026 158030]\n",
      "Train: [     0      1      2 ... 158057 158058 158059] Validation: [    41     48     49 ... 158034 158047 158055]\n"
     ]
    },
    {
     "name": "stdout",
     "output_type": "stream",
     "text": [
      "Train: [     0      1      2 ... 158057 158058 158059] Validation: [     4      7     10 ... 158005 158012 158053]\n",
      "Train: [     0      1      3 ... 158057 158058 158059] Validation: [     2     34     35 ... 158038 158039 158040]\n",
      "Train: [     0      1      2 ... 158056 158058 158059] Validation: [    20     22     61 ... 158042 158043 158057]\n",
      "Train: [     0      1      2 ... 158056 158057 158059] Validation: [     8     36     47 ... 158047 158054 158058]\n",
      "Train: [     0      1      3 ... 158056 158058 158059] Validation: [     2     13     39 ... 158050 158051 158057]\n",
      "Train: [     0      1      2 ... 158057 158058 158059] Validation: [     9     31     38 ... 158032 158037 158044]\n",
      "Train: [     0      2      3 ... 158056 158057 158058] Validation: [     1      4     22 ... 158024 158040 158059]\n",
      "Train: [     0      1      2 ... 158057 158058 158059] Validation: [    12     15     40 ... 158048 158049 158052]\n",
      "Train: [     1      2      3 ... 158057 158058 158059] Validation: [     0     11     20 ... 158023 158031 158034]\n",
      "Train: [     0      1      2 ... 158057 158058 158059] Validation: [    21     28     66 ... 158053 158055 158056]\n",
      "Train: [     0      1      2 ... 158057 158058 158059] Validation: [    23     32     33 ... 158028 158036 158039]\n",
      "Train: [     0      1      2 ... 158057 158058 158059] Validation: [     5      6      7 ... 158021 158041 158045]\n",
      "Train: [     0      1      2 ... 158057 158058 158059] Validation: [     3     10     14 ... 158022 158029 158038]\n",
      "Train: [     0      2      3 ... 158057 158058 158059] Validation: [     1     20     46 ... 158011 158029 158040]\n",
      "Train: [     1      2      3 ... 158057 158058 158059] Validation: [     0      8     23 ... 158016 158034 158051]\n",
      "Train: [     0      1      2 ... 158056 158057 158059] Validation: [    10     11     22 ... 158006 158027 158058]\n",
      "Train: [     0      1      3 ... 158057 158058 158059] Validation: [     2     18     29 ... 158047 158053 158056]\n",
      "Train: [     0      1      2 ... 158056 158058 158059] Validation: [    14     15     16 ... 158044 158048 158057]\n",
      "Train: [     0      1      2 ... 158057 158058 158059] Validation: [     3      5     17 ... 158031 158037 158055]\n",
      "Train: [     0      1      2 ... 158057 158058 158059] Validation: [     6     13     26 ... 157990 158018 158043]\n",
      "Train: [     0      1      2 ... 158057 158058 158059] Validation: [     4      7     35 ... 158045 158050 158054]\n",
      "Train: [     0      1      2 ... 158057 158058 158059] Validation: [    12     36     51 ... 158028 158046 158052]\n",
      "Train: [     0      1      2 ... 158056 158057 158058] Validation: [     9     28     32 ... 158038 158049 158059]\n"
     ]
    }
   ],
   "source": [
    "# K fold cross validation\n",
    "from sklearn.model_selection import RepeatedKFold\n",
    "kf = RepeatedKFold(n_splits=10, n_repeats=10, random_state=None) \n",
    "\n",
    "for train_index, test_index in kf.split(imp_features):\n",
    "      print(\"Train:\", train_index, \"Validation:\",test_index)\n",
    "      X_train, X_test = imp_features[train_index], imp_features[test_index] \n",
    "      y_train, y_test = labels[train_index], labels[test_index]"
   ]
  },
  {
   "cell_type": "markdown",
   "metadata": {},
   "source": [
    "### Train RF Model\n",
    "\n",
    "Here we're using a scikit learn randomf forest regressor and tuning the hyperparameters. A random forest is a meta estimator that fits a number of classifying decision trees on various sub-samples of the dataset and uses averaging to improve the predictive accuracy and control over-fitting. "
   ]
  },
  {
   "cell_type": "code",
   "execution_count": null,
   "metadata": {},
   "outputs": [],
   "source": [
    "from sklearn.ensemble import RandomForestRegressor\n",
    "\n",
    "rf = RandomForestRegressor(n_estimators=100, criterion='mse', max_depth=None, min_samples_split=2, \n",
    "                           min_samples_leaf=1, min_weight_fraction_leaf=0.0, max_features='auto', \n",
    "                           max_leaf_nodes=None, min_impurity_decrease=0.0, min_impurity_split=None, \n",
    "                           bootstrap=True, oob_score=False, n_jobs=None, random_state=None, \n",
    "                           verbose=0, warm_start=False)\n",
    "rf.fit(X_train, y_train)"
   ]
  },
  {
   "cell_type": "markdown",
   "metadata": {},
   "source": [
    "### Make Prediction on Test Set"
   ]
  },
  {
   "cell_type": "code",
   "execution_count": null,
   "metadata": {},
   "outputs": [],
   "source": [
    "from sklearn.metrics import mean_absolute_error\n",
    "\n",
    "predictions = rf.predict(X_test)\n",
    "\n",
    "# Calculate the Mean Absolute Error\n",
    "mae = round(mean_absolute_error(y_test, predictions)/60,2)\n",
    "print('Mean Absolute Error:', mae, 'minutes.')\n",
    "\n",
    "# Calculate the Mean Absolute Percent Error\n",
    "errors = abs(predictions - y_test)\n",
    "mape = 100 * (errors / y_test)\n",
    "\n",
    "accuracy = 100 - np.mean(mape)\n",
    "print('Accuracy:', round(accuracy, 2), '%')"
   ]
  },
  {
   "cell_type": "markdown",
   "metadata": {},
   "source": [
    "### Final Results"
   ]
  },
  {
   "cell_type": "code",
   "execution_count": null,
   "metadata": {},
   "outputs": [],
   "source": [
    "# Create a DataFrame using the testing set\n",
    "imptestdf = pd.DataFrame(X_test, columns=imp_features_list)\n",
    "\n",
    "# Add the prediction and actual outcome columns\n",
    "imptestdf['prediction'] = predictions\n",
    "imptestdf['actual'] = y_test\n",
    "\n",
    "# Add the prediction and actual under_MOGT columns\n",
    "imptestdf['actual_under_MOGT'] = imptestdf['actual'] <= (imptestdf['MOGT'] * 60)\n",
    "imptestdf['pred_under_MOGT'] = imptestdf['prediction'] <= (imptestdf['MOGT'] * 60)\n",
    "\n",
    "# Add a column to show if our prediction was correct\n",
    "imptestdf['correct'] = imptestdf['actual_under_MOGT'] == imptestdf['pred_under_MOGT']\n",
    "\n",
    "\n",
    "imptestdf.head()"
   ]
  },
  {
   "cell_type": "markdown",
   "metadata": {},
   "source": [
    "### Accuracy "
   ]
  },
  {
   "cell_type": "code",
   "execution_count": null,
   "metadata": {},
   "outputs": [],
   "source": [
    "print('Accuracy Score: {:.2%}'.format(imptestdf.correct.sum() / len(imptestdf.correct)))"
   ]
  }
 ],
 "metadata": {
  "kernelspec": {
   "display_name": "Python 3",
   "language": "python",
   "name": "python3"
  },
  "language_info": {
   "codemirror_mode": {
    "name": "ipython",
    "version": 3
   },
   "file_extension": ".py",
   "mimetype": "text/x-python",
   "name": "python",
   "nbconvert_exporter": "python",
   "pygments_lexer": "ipython3",
   "version": "3.7.3"
  }
 },
 "nbformat": 4,
 "nbformat_minor": 2
}
